{
 "cells": [
  {
   "cell_type": "markdown",
   "metadata": {},
   "source": [
    "# Segmenting and Clustering Neighborhoods in the city of Toronto, Canada\n"
   ]
  },
  {
   "cell_type": "markdown",
   "metadata": {},
   "source": [
    "**Before I get the data and start exploring it, I download all the dependencies that will be needed."
   ]
  },
  {
   "cell_type": "code",
   "execution_count": 2,
   "metadata": {},
   "outputs": [
    {
     "name": "stderr",
     "output_type": "stream",
     "text": [
      "/Users/Fabian/opt/anaconda3/lib/python3.7/site-packages/sklearn/utils/deprecation.py:144: FutureWarning: The sklearn.datasets.samples_generator module is  deprecated in version 0.22 and will be removed in version 0.24. The corresponding classes / functions should instead be imported from sklearn.datasets. Anything that cannot be imported from sklearn.datasets is now part of the private API.\n",
      "  warnings.warn(message, FutureWarning)\n"
     ]
    },
    {
     "name": "stdout",
     "output_type": "stream",
     "text": [
      "Collecting package metadata (current_repodata.json): done\n",
      "Solving environment: done\n",
      "\n",
      "# All requested packages already installed.\n",
      "\n",
      "Libraries imported.\n"
     ]
    }
   ],
   "source": [
    "import random # library for random number generation\n",
    "import numpy as np # library for vectorized computation\n",
    "import pandas as pd # library to process data as dataframes\n",
    "import requests\n",
    "\n",
    "import matplotlib.pyplot as plt # plotting library\n",
    "# backend for rendering plots within the browser\n",
    "%matplotlib inline\n",
    "\n",
    "from bs4 import BeautifulSoup\n",
    "from sklearn.cluster import KMeans \n",
    "from sklearn.datasets.samples_generator import make_blobs\n",
    "\n",
    "import bs4 as bs\n",
    "import urllib.request\n",
    "\n",
    "# geocoder\n",
    "!conda install -c conda-forge geocoder --yes \n",
    "import geocoder\n",
    "\n",
    "print('Libraries imported.')"
   ]
  },
  {
   "cell_type": "code",
   "execution_count": 3,
   "metadata": {},
   "outputs": [
    {
     "ename": "SyntaxError",
     "evalue": "invalid syntax (<ipython-input-3-529dc8080613>, line 1)",
     "output_type": "error",
     "traceback": [
      "\u001b[0;36m  File \u001b[0;32m\"<ipython-input-3-529dc8080613>\"\u001b[0;36m, line \u001b[0;32m1\u001b[0m\n\u001b[0;31m    ** I used BeautifulSoup package to scrap and import the Wikipedia article\u001b[0m\n\u001b[0m     ^\u001b[0m\n\u001b[0;31mSyntaxError\u001b[0m\u001b[0;31m:\u001b[0m invalid syntax\n"
     ]
    }
   ],
   "source": [
    "** I used BeautifulSoup package to scrap and import the Wikipedia article "
   ]
  },
  {
   "cell_type": "code",
   "execution_count": null,
   "metadata": {},
   "outputs": [],
   "source": [
    "df = pd.DataFrame(l, columns=[\"PostalCode\", \"Borough\", \"Neighbourhood\"])\n",
    "df.head(10)"
   ]
  },
  {
   "cell_type": "markdown",
   "metadata": {},
   "source": [
    "**I constructed a dataframe which consists out of 3 columns (Postalcode, Borough, Neighbourhood)"
   ]
  },
  {
   "cell_type": "code",
   "execution_count": null,
   "metadata": {},
   "outputs": [],
   "source": [
    "df = df[df.Borough != 'Not assigned']\n",
    "df.head(10)"
   ]
  },
  {
   "cell_type": "code",
   "execution_count": null,
   "metadata": {},
   "outputs": [],
   "source": [
    "df = df.groupby(['PostalCode', 'Borough']).agg(', '.join)\n",
    "df = df.reset_index()\n",
    "df.head(10)"
   ]
  },
  {
   "cell_type": "code",
   "execution_count": null,
   "metadata": {},
   "outputs": [],
   "source": [
    "df.loc[df['Neighbourhood']=='Not assigned', ['Neighbourhood']] = 'Queen\\'s Park'\n",
    "df.head(10)"
   ]
  },
  {
   "cell_type": "code",
   "execution_count": 9,
   "metadata": {},
   "outputs": [
    {
     "data": {
      "text/plain": [
       "(103, 3)"
      ]
     },
     "execution_count": 9,
     "metadata": {},
     "output_type": "execute_result"
    }
   ],
   "source": [
    "# In the last cell of your notebook, use the .shape method to print the number of rows of your dataframe.\n",
    "df.shape"
   ]
  },
  {
   "cell_type": "markdown",
   "metadata": {},
   "source": [
    "# Getting the latitude and the longitude coordinates of each neighborhood."
   ]
  },
  {
   "cell_type": "code",
   "execution_count": null,
   "metadata": {},
   "outputs": [],
   "source": [
    "Find out the longitude through the postalcodes"
   ]
  },
  {
   "cell_type": "code",
   "execution_count": 23,
   "metadata": {},
   "outputs": [
    {
     "name": "stdout",
     "output_type": "stream",
     "text": [
      "PostalCode: M1B Latitude: 43.8066863 Longitude: -79.1943534\n",
      "PostalCode: M1C Latitude: 43.78453510000001 Longitude: -79.1604971\n",
      "PostalCode: M1E Latitude: 43.7635726 Longitude: -79.1887115\n",
      "PostalCode: M1G Latitude: 43.7709921 Longitude: -79.2169174\n",
      "PostalCode: M1H Latitude: 43.773136 Longitude: -79.23947609999999\n",
      "PostalCode: M1J Latitude: 43.7447342 Longitude: -79.23947609999999\n",
      "PostalCode: M1K Latitude: 43.7279292 Longitude: -79.2620294\n",
      "PostalCode: M1L Latitude: 43.7111117 Longitude: -79.2845772\n",
      "PostalCode: M1M Latitude: 43.716316 Longitude: -79.23947609999999\n",
      "PostalCode: M1N Latitude: 43.692657 Longitude: -79.2648481\n",
      "PostalCode: M1P Latitude: 43.7574096 Longitude: -79.273304\n",
      "PostalCode: M1R Latitude: 43.7500715 Longitude: -79.2958491\n",
      "PostalCode: M1S Latitude: 43.7942003 Longitude: -79.2620294\n",
      "PostalCode: M1T Latitude: 43.7816375 Longitude: -79.3043021\n",
      "PostalCode: M1V Latitude: 43.8152522 Longitude: -79.2845772\n",
      "PostalCode: M1W Latitude: 43.7995252 Longitude: -79.3183887\n",
      "PostalCode: M1X Latitude: 43.8361247 Longitude: -79.20563609999999\n",
      "PostalCode: M2H Latitude: 43.8037622 Longitude: -79.3634517\n",
      "PostalCode: M2J Latitude: 43.7785175 Longitude: -79.3465557\n",
      "PostalCode: M2K Latitude: 43.7869473 Longitude: -79.385975\n",
      "PostalCode: M2L Latitude: 43.7574902 Longitude: -79.37471409999999\n",
      "PostalCode: M2M Latitude: 43.789053 Longitude: -79.40849279999999\n",
      "PostalCode: M2N Latitude: 43.7701199 Longitude: -79.40849279999999\n",
      "PostalCode: M2P Latitude: 43.7527583 Longitude: -79.40004929999999\n",
      "PostalCode: M2R Latitude: 43.7827364 Longitude: -79.4422593\n",
      "PostalCode: M3A Latitude: 43.7532586 Longitude: -79.3296565\n",
      "PostalCode: M3B Latitude: 43.7459058 Longitude: -79.352188\n",
      "PostalCode: M3C Latitude: 43.7258997 Longitude: -79.34092299999999\n",
      "PostalCode: M3H Latitude: 43.7543283 Longitude: -79.4422593\n",
      "PostalCode: M3J Latitude: 43.7679803 Longitude: -79.4872619\n",
      "PostalCode: M3K Latitude: 43.7374732 Longitude: -79.4647633\n",
      "PostalCode: M3L Latitude: 43.7390146 Longitude: -79.5069436\n",
      "PostalCode: M3M Latitude: 43.7284964 Longitude: -79.4956974\n",
      "PostalCode: M3N Latitude: 43.7616313 Longitude: -79.5209994\n",
      "PostalCode: M4A Latitude: 43.72588229999999 Longitude: -79.3155716\n",
      "PostalCode: M4B Latitude: 43.7063972 Longitude: -79.30993699999999\n",
      "PostalCode: M4C Latitude: 43.6953439 Longitude: -79.3183887\n",
      "PostalCode: M4E Latitude: 43.6763574 Longitude: -79.2930312\n",
      "PostalCode: M4G Latitude: 43.7090604 Longitude: -79.3634517\n",
      "PostalCode: M4H Latitude: 43.7053689 Longitude: -79.3493719\n",
      "PostalCode: M4J Latitude: 43.685347 Longitude: -79.3381065\n",
      "PostalCode: M4K Latitude: 43.6795571 Longitude: -79.352188\n",
      "PostalCode: M4L Latitude: 43.6689985 Longitude: -79.3155716\n",
      "PostalCode: M4M Latitude: 43.6595255 Longitude: -79.34092299999999\n",
      "PostalCode: M4N Latitude: 43.7280205 Longitude: -79.3887901\n",
      "PostalCode: M4P Latitude: 43.7127511 Longitude: -79.3901975\n",
      "PostalCode: M4R Latitude: 43.7153834 Longitude: -79.4056784\n",
      "PostalCode: M4S Latitude: 43.7043244 Longitude: -79.3887901\n",
      "PostalCode: M4T Latitude: 43.6895743 Longitude: -79.3831599\n",
      "PostalCode: M4V Latitude: 43.6864123 Longitude: -79.40004929999999\n",
      "PostalCode: M4W Latitude: 43.6795626 Longitude: -79.3775294\n",
      "PostalCode: M4X Latitude: 43.667967 Longitude: -79.3676753\n",
      "PostalCode: M4Y Latitude: 43.6658599 Longitude: -79.3831599\n",
      "PostalCode: M5A Latitude: 43.6542599 Longitude: -79.36063589999999\n",
      "PostalCode: M5B Latitude: 43.6571618 Longitude: -79.3789371\n",
      "PostalCode: M5C Latitude: 43.6514939 Longitude: -79.3754179\n",
      "PostalCode: M5E Latitude: 43.6447708 Longitude: -79.37330639999999\n",
      "PostalCode: M5G Latitude: 43.6579524 Longitude: -79.3873826\n",
      "PostalCode: M5H Latitude: 43.65057119999999 Longitude: -79.3845675\n",
      "PostalCode: M5J Latitude: 43.6408157 Longitude: -79.3817523\n",
      "PostalCode: M5K Latitude: 43.6471768 Longitude: -79.3815764\n",
      "PostalCode: M5L Latitude: 43.6481985 Longitude: -79.3798169\n",
      "PostalCode: M5M Latitude: 43.7332825 Longitude: -79.4197497\n",
      "PostalCode: M5N Latitude: 43.7116948 Longitude: -79.4169356\n",
      "PostalCode: M5P Latitude: 43.6969476 Longitude: -79.4113072\n",
      "PostalCode: M5R Latitude: 43.6727097 Longitude: -79.4056784\n",
      "PostalCode: M5S Latitude: 43.6626956 Longitude: -79.40004929999999\n",
      "PostalCode: M5T Latitude: 43.6532057 Longitude: -79.40004929999999\n",
      "PostalCode: M5V Latitude: 43.6289467 Longitude: -79.3944199\n",
      "PostalCode: M5W Latitude: 43.6464352 Longitude: -79.37484599999999\n",
      "PostalCode: M5X Latitude: 43.6484292 Longitude: -79.3822802\n",
      "PostalCode: M6A Latitude: 43.718518 Longitude: -79.4647633\n",
      "PostalCode: M6B Latitude: 43.709577 Longitude: -79.4450726\n",
      "PostalCode: M6C Latitude: 43.6937813 Longitude: -79.4281914\n",
      "PostalCode: M6E Latitude: 43.68902560000001 Longitude: -79.453512\n",
      "PostalCode: M6G Latitude: 43.669542 Longitude: -79.4225637\n",
      "PostalCode: M6H Latitude: 43.6690051 Longitude: -79.4422593\n",
      "PostalCode: M6J Latitude: 43.6479267 Longitude: -79.4197497\n",
      "PostalCode: M6K Latitude: 43.6368472 Longitude: -79.4281914\n",
      "PostalCode: M6L Latitude: 43.7137562 Longitude: -79.49007379999999\n",
      "PostalCode: M6M Latitude: 43.6911158 Longitude: -79.47601329999999\n",
      "PostalCode: M6N Latitude: 43.6731853 Longitude: -79.4872619\n",
      "PostalCode: M6P Latitude: 43.6616083 Longitude: -79.4647633\n",
      "PostalCode: M6R Latitude: 43.6489597 Longitude: -79.45632499999999\n",
      "PostalCode: M6S Latitude: 43.6515706 Longitude: -79.4844499\n",
      "PostalCode: M7A Latitude: 43.6623015 Longitude: -79.3894938\n",
      "PostalCode: M7R Latitude: 43.6369656 Longitude: -79.615819\n",
      "PostalCode: M7Y Latitude: 43.6627439 Longitude: -79.321558\n",
      "PostalCode: M8V Latitude: 43.6056466 Longitude: -79.5013207\n",
      "PostalCode: M8W Latitude: 43.6024137 Longitude: -79.5434841\n",
      "PostalCode: M8X Latitude: 43.6536536 Longitude: -79.5069436\n",
      "PostalCode: M8Y Latitude: 43.6362579 Longitude: -79.49850909999999\n",
      "PostalCode: M8Z Latitude: 43.6288408 Longitude: -79.5209994\n",
      "PostalCode: M9A Latitude: 43.6678556 Longitude: -79.5322424\n",
      "PostalCode: M9B Latitude: 43.65094320000001 Longitude: -79.5547244\n",
      "PostalCode: M9C Latitude: 43.6435152 Longitude: -79.5772008\n",
      "PostalCode: M9L Latitude: 43.7563033 Longitude: -79.56596329999999\n",
      "PostalCode: M9M Latitude: 43.7247659 Longitude: -79.5322424\n",
      "PostalCode: M9N Latitude: 43.706876 Longitude: -79.5181884\n",
      "PostalCode: M9P Latitude: 43.696319 Longitude: -79.5322424\n",
      "PostalCode: M9R Latitude: 43.6889054 Longitude: -79.5547244\n",
      "PostalCode: M9V Latitude: 43.7394164 Longitude: -79.58843689999999\n",
      "PostalCode: M9W Latitude: 43.7067483 Longitude: -79.59405439999999\n"
     ]
    }
   ],
   "source": [
    "df['Latitude'] = ''\n",
    "df['Longitude'] = ''\n",
    "\n",
    "\n",
    "for index, data in df.iterrows():\n",
    "    lat_lng_coords = None\n",
    "    while(lat_lng_coords is None):\n",
    "        g = geocoder.google('{}, Toronto, Ontario'.format(data['PostalCode']))\n",
    "        lat_lng_coords = g.latlng\n",
    "    data['Latitude'] = lat_lng_coords[0]\n",
    "    data['Longitude'] = lat_lng_coords[1]\n",
    "    print ('PostalCode:', data['PostalCode'], 'Latitude:', data['Latitude'], 'Longitude:', data['Longitude'])"
   ]
  },
  {
   "cell_type": "code",
   "execution_count": null,
   "metadata": {},
   "outputs": [],
   "source": [
    "** Printing the results"
   ]
  },
  {
   "cell_type": "code",
   "execution_count": 25,
   "metadata": {},
   "outputs": [
    {
     "data": {
      "text/html": [
       "<div>\n",
       "<style scoped>\n",
       "    .dataframe tbody tr th:only-of-type {\n",
       "        vertical-align: middle;\n",
       "    }\n",
       "\n",
       "    .dataframe tbody tr th {\n",
       "        vertical-align: top;\n",
       "    }\n",
       "\n",
       "    .dataframe thead th {\n",
       "        text-align: right;\n",
       "    }\n",
       "</style>\n",
       "<table border=\"1\" class=\"dataframe\">\n",
       "  <thead>\n",
       "    <tr style=\"text-align: right;\">\n",
       "      <th></th>\n",
       "      <th>PostalCode</th>\n",
       "      <th>Borough</th>\n",
       "      <th>Neighbourhood</th>\n",
       "      <th>Latitude</th>\n",
       "      <th>Longitude</th>\n",
       "    </tr>\n",
       "  </thead>\n",
       "  <tbody>\n",
       "    <tr>\n",
       "      <th>0</th>\n",
       "      <td>M1B</td>\n",
       "      <td>Scarborough</td>\n",
       "      <td>Rouge, Malvern</td>\n",
       "      <td>43.8067</td>\n",
       "      <td>-79.1944</td>\n",
       "    </tr>\n",
       "    <tr>\n",
       "      <th>1</th>\n",
       "      <td>M1C</td>\n",
       "      <td>Scarborough</td>\n",
       "      <td>Highland Creek, Rouge Hill, Port Union</td>\n",
       "      <td>43.7845</td>\n",
       "      <td>-79.1605</td>\n",
       "    </tr>\n",
       "    <tr>\n",
       "      <th>2</th>\n",
       "      <td>M1E</td>\n",
       "      <td>Scarborough</td>\n",
       "      <td>Guildwood]], Morningside, West Hill</td>\n",
       "      <td>43.7636</td>\n",
       "      <td>-79.1887</td>\n",
       "    </tr>\n",
       "    <tr>\n",
       "      <th>3</th>\n",
       "      <td>M1G</td>\n",
       "      <td>Scarborough</td>\n",
       "      <td>Woburn</td>\n",
       "      <td>43.771</td>\n",
       "      <td>-79.2169</td>\n",
       "    </tr>\n",
       "    <tr>\n",
       "      <th>4</th>\n",
       "      <td>M1H</td>\n",
       "      <td>Scarborough</td>\n",
       "      <td>Cedarbrae</td>\n",
       "      <td>43.7731</td>\n",
       "      <td>-79.2395</td>\n",
       "    </tr>\n",
       "    <tr>\n",
       "      <th>5</th>\n",
       "      <td>M1J</td>\n",
       "      <td>Scarborough</td>\n",
       "      <td>Scarborough Village</td>\n",
       "      <td>43.7447</td>\n",
       "      <td>-79.2395</td>\n",
       "    </tr>\n",
       "    <tr>\n",
       "      <th>6</th>\n",
       "      <td>M1K</td>\n",
       "      <td>Scarborough</td>\n",
       "      <td>East Birchmount Park, Ionview, Kennedy Park</td>\n",
       "      <td>43.7279</td>\n",
       "      <td>-79.262</td>\n",
       "    </tr>\n",
       "    <tr>\n",
       "      <th>7</th>\n",
       "      <td>M1L</td>\n",
       "      <td>Scarborough</td>\n",
       "      <td>Clairlea, Golden Mile, Oakridge</td>\n",
       "      <td>43.7111</td>\n",
       "      <td>-79.2846</td>\n",
       "    </tr>\n",
       "    <tr>\n",
       "      <th>8</th>\n",
       "      <td>M1M</td>\n",
       "      <td>Scarborough</td>\n",
       "      <td>Cliffcrest, Cliffside, Scarborough Village West</td>\n",
       "      <td>43.7163</td>\n",
       "      <td>-79.2395</td>\n",
       "    </tr>\n",
       "    <tr>\n",
       "      <th>9</th>\n",
       "      <td>M1N</td>\n",
       "      <td>Scarborough</td>\n",
       "      <td>Birch Cliff, Cliffside West</td>\n",
       "      <td>43.6927</td>\n",
       "      <td>-79.2648</td>\n",
       "    </tr>\n",
       "  </tbody>\n",
       "</table>\n",
       "</div>"
      ],
      "text/plain": [
       "  PostalCode      Borough                                    Neighbourhood  \\\n",
       "0        M1B  Scarborough                                   Rouge, Malvern   \n",
       "1        M1C  Scarborough           Highland Creek, Rouge Hill, Port Union   \n",
       "2        M1E  Scarborough              Guildwood]], Morningside, West Hill   \n",
       "3        M1G  Scarborough                                           Woburn   \n",
       "4        M1H  Scarborough                                        Cedarbrae   \n",
       "5        M1J  Scarborough                              Scarborough Village   \n",
       "6        M1K  Scarborough      East Birchmount Park, Ionview, Kennedy Park   \n",
       "7        M1L  Scarborough                  Clairlea, Golden Mile, Oakridge   \n",
       "8        M1M  Scarborough  Cliffcrest, Cliffside, Scarborough Village West   \n",
       "9        M1N  Scarborough                      Birch Cliff, Cliffside West   \n",
       "\n",
       "  Latitude Longitude  \n",
       "0  43.8067  -79.1944  \n",
       "1  43.7845  -79.1605  \n",
       "2  43.7636  -79.1887  \n",
       "3   43.771  -79.2169  \n",
       "4  43.7731  -79.2395  \n",
       "5  43.7447  -79.2395  \n",
       "6  43.7279   -79.262  \n",
       "7  43.7111  -79.2846  \n",
       "8  43.7163  -79.2395  \n",
       "9  43.6927  -79.2648  "
      ]
     },
     "execution_count": 25,
     "metadata": {},
     "output_type": "execute_result"
    }
   ],
   "source": [
    "df.head(10)"
   ]
  },
  {
   "cell_type": "code",
   "execution_count": 27,
   "metadata": {},
   "outputs": [
    {
     "name": "stdout",
     "output_type": "stream",
     "text": [
      "The dataframe has 11 boroughs and 103 neighborhoods.\n"
     ]
    }
   ],
   "source": [
    "print('The dataframe has {} boroughs and {} neighborhoods.'.format(\n",
    "        len(df['Borough'].unique()),\n",
    "        df.shape[0]\n",
    "    )\n",
    ")"
   ]
  },
  {
   "cell_type": "markdown",
   "metadata": {},
   "source": []
  },
  {
   "cell_type": "code",
   "execution_count": null,
   "metadata": {},
   "outputs": [],
   "source": []
  }
 ],
 "metadata": {
  "kernelspec": {
   "display_name": "Python 3",
   "language": "python",
   "name": "python3"
  },
  "language_info": {
   "codemirror_mode": {
    "name": "ipython",
    "version": 3
   },
   "file_extension": ".py",
   "mimetype": "text/x-python",
   "name": "python",
   "nbconvert_exporter": "python",
   "pygments_lexer": "ipython3",
   "version": "3.7.6"
  }
 },
 "nbformat": 4,
 "nbformat_minor": 1
}
